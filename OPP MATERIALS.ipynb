{
 "cells": [
  {
   "cell_type": "markdown",
   "metadata": {},
   "source": [
    "#01: OBJECT ORIENTED PROGRAMMING INTORDUCTION"
   ]
  },
  {
   "cell_type": "code",
   "execution_count": 3,
   "metadata": {},
   "outputs": [
    {
     "name": "stdout",
     "output_type": "stream",
     "text": [
      "You received your CookiesnCream milktea order\n"
     ]
    }
   ],
   "source": [
    "class Milktea:\n",
    "    #CONSTRUCTOR\n",
    "    def __init__(self,flavor,size,sugar_level,with_pearl):\n",
    "        self.flavor = flavor\n",
    "        self.size = size\n",
    "        self.sugar_level = sugar_level\n",
    "        self.with_pearl = with_pearl\n",
    "    #METHOD\n",
    "    def receive(self):\n",
    "        print(f'You received your {self.flavor} milktea order')\n",
    "\n",
    "#OBJECTS\n",
    "customer1 = Milktea(\"Redvelvet\",\"Small\",4,True)\n",
    "customer2 = Milktea(\"CookiesnCream\",\"Large\",7,False)\n",
    "\n",
    "#CALL THE METHOD WITH OBJECT\n",
    "customer2.receive()"
   ]
  },
  {
   "cell_type": "markdown",
   "metadata": {},
   "source": [
    "#1.1 : CALCULATE TOTAL PRICE"
   ]
  },
  {
   "cell_type": "code",
   "execution_count": 2,
   "metadata": {},
   "outputs": [
    {
     "name": "stdout",
     "output_type": "stream",
     "text": [
      "item1: 150\n",
      "item2: 100\n"
     ]
    }
   ],
   "source": [
    "class Item:\n",
    "    # def constructor, receives argument from object (ex: item1 & item2)\n",
    "    def __init__(self,name,price,quantity):\n",
    "        #assign to self object\n",
    "        self.name = name\n",
    "        self.price = price\n",
    "        self.quantity = quantity\n",
    "\n",
    "    #def an action\n",
    "    def Calculate(self):\n",
    "        return self.price * self.quantity\n",
    "\n",
    "item1 = Item(\"Rice\",50,3)\n",
    "item2 = Item(\"Piatos\",20,5)\n",
    "\n",
    "print(item1.Calculate())\n",
    "print(item2.Calculate())\n",
    "\n",
    "\n"
   ]
  },
  {
   "cell_type": "markdown",
   "metadata": {},
   "source": [
    "#1.2 : RESTRICT ARGUMENT DATA TYPE TO RECEIVED"
   ]
  },
  {
   "cell_type": "code",
   "execution_count": 8,
   "metadata": {},
   "outputs": [
    {
     "name": "stdout",
     "output_type": "stream",
     "text": [
      "0\n",
      "100\n"
     ]
    }
   ],
   "source": [
    "class Item:\n",
    "    # using \":\" to assign what data type a parameter must receive\n",
    "    def __init__(self,name: str ,price: float,quantity = 0): # using \"=\" to assign default value\n",
    "        self.name = name\n",
    "        self.price = price\n",
    "        self.quantity = quantity\n",
    "\n",
    "    #def an action\n",
    "    def Calculate(self):\n",
    "        return self.price * self.quantity\n",
    "\n",
    "item1 = Item(\"Rice\",50) # result will be 0 because no argument were sent to quantity so by default quantity is 0 ( 50 x 0 = 0)\n",
    "item2 = Item(\"Piatos\",20,5)\n",
    "\n",
    "print(item1.Calculate())\n",
    "print(item2.Calculate())"
   ]
  },
  {
   "cell_type": "markdown",
   "metadata": {},
   "source": [
    "#1.3 : ASSERT =  FOR VALIDATIONS"
   ]
  },
  {
   "cell_type": "code",
   "execution_count": 16,
   "metadata": {},
   "outputs": [
    {
     "ename": "AssertionError",
     "evalue": "Quantity -3 is not greater than 0",
     "output_type": "error",
     "traceback": [
      "\u001b[1;31m---------------------------------------------------------------------------\u001b[0m",
      "\u001b[1;31mAssertionError\u001b[0m                            Traceback (most recent call last)",
      "Cell \u001b[1;32mIn[16], line 16\u001b[0m\n\u001b[0;32m     13\u001b[0m     \u001b[38;5;28;01mdef\u001b[39;00m \u001b[38;5;21mCalculate\u001b[39m(\u001b[38;5;28mself\u001b[39m):\n\u001b[0;32m     14\u001b[0m         \u001b[38;5;28;01mreturn\u001b[39;00m \u001b[38;5;28mself\u001b[39m\u001b[38;5;241m.\u001b[39mprice \u001b[38;5;241m*\u001b[39m \u001b[38;5;28mself\u001b[39m\u001b[38;5;241m.\u001b[39mquantity\n\u001b[1;32m---> 16\u001b[0m item1 \u001b[38;5;241m=\u001b[39m \u001b[43mItem\u001b[49m\u001b[43m(\u001b[49m\u001b[38;5;124;43m\"\u001b[39;49m\u001b[38;5;124;43mrice\u001b[39;49m\u001b[38;5;124;43m\"\u001b[39;49m\u001b[43m,\u001b[49m\u001b[38;5;241;43m50\u001b[39;49m\u001b[43m,\u001b[49m\u001b[38;5;241;43m-\u001b[39;49m\u001b[38;5;241;43m3\u001b[39;49m\u001b[43m)\u001b[49m \n\u001b[0;32m     17\u001b[0m item2 \u001b[38;5;241m=\u001b[39m Item(\u001b[38;5;124m\"\u001b[39m\u001b[38;5;124mPiatos\u001b[39m\u001b[38;5;124m\"\u001b[39m,\u001b[38;5;241m-\u001b[39m\u001b[38;5;241m20\u001b[39m,\u001b[38;5;241m5\u001b[39m)\n\u001b[0;32m     19\u001b[0m \u001b[38;5;28mprint\u001b[39m(item1\u001b[38;5;241m.\u001b[39mCalculate())\n",
      "Cell \u001b[1;32mIn[16], line 5\u001b[0m, in \u001b[0;36mItem.__init__\u001b[1;34m(self, name, price, quantity)\u001b[0m\n\u001b[0;32m      2\u001b[0m \u001b[38;5;28;01mdef\u001b[39;00m \u001b[38;5;21m__init__\u001b[39m(\u001b[38;5;28mself\u001b[39m,name: \u001b[38;5;28mstr\u001b[39m, price: \u001b[38;5;28mfloat\u001b[39m, quantity \u001b[38;5;241m=\u001b[39m \u001b[38;5;241m0\u001b[39m): \n\u001b[0;32m      3\u001b[0m     \u001b[38;5;66;03m# Run validation to the received arguments\u001b[39;00m\n\u001b[0;32m      4\u001b[0m     \u001b[38;5;28;01massert\u001b[39;00m price \u001b[38;5;241m>\u001b[39m\u001b[38;5;241m=\u001b[39m \u001b[38;5;241m0\u001b[39m, \u001b[38;5;124mf\u001b[39m\u001b[38;5;124m'\u001b[39m\u001b[38;5;124mPrice\u001b[39m\u001b[38;5;132;01m{\u001b[39;00mprice\u001b[38;5;132;01m}\u001b[39;00m\u001b[38;5;124m is not greater than 0\u001b[39m\u001b[38;5;124m'\u001b[39m \u001b[38;5;66;03m#to ensure no negative values\u001b[39;00m\n\u001b[1;32m----> 5\u001b[0m     \u001b[38;5;28;01massert\u001b[39;00m quantity \u001b[38;5;241m>\u001b[39m\u001b[38;5;241m=\u001b[39m \u001b[38;5;241m0\u001b[39m, \u001b[38;5;124mf\u001b[39m\u001b[38;5;124m'\u001b[39m\u001b[38;5;124mQuantity \u001b[39m\u001b[38;5;132;01m{\u001b[39;00mquantity\u001b[38;5;132;01m}\u001b[39;00m\u001b[38;5;124m is not greater than 0\u001b[39m\u001b[38;5;124m'\u001b[39m\n\u001b[0;32m      7\u001b[0m     \u001b[38;5;66;03m#assign to self object\u001b[39;00m\n\u001b[0;32m      8\u001b[0m     \u001b[38;5;28mself\u001b[39m\u001b[38;5;241m.\u001b[39mname \u001b[38;5;241m=\u001b[39m name\n",
      "\u001b[1;31mAssertionError\u001b[0m: Quantity -3 is not greater than 0"
     ]
    }
   ],
   "source": [
    "class Item:\n",
    "    def __init__(self,name: str, price: float, quantity = 0): \n",
    "        # Run validation to the received arguments\n",
    "        assert price >= 0, f'Price{price} is not greater than 0' #to ensure no negative values\n",
    "        assert quantity >= 0, f'Quantity {quantity} is not greater than 0'\n",
    "\n",
    "        #assign to self object\n",
    "        self.name = name\n",
    "        self.price = price\n",
    "        self.quantity = quantity\n",
    "\n",
    "    #def an action\n",
    "    def Calculate(self):\n",
    "        return self.price * self.quantity\n",
    "\n",
    "item1 = Item(\"rice\",50,-3) # negative value argument will cause errors because assert is implemented for validation purposes\n",
    "item2 = Item(\"Piatos\",-20,5)\n",
    "\n",
    "print(item1.Calculate())\n",
    "print(item2.Calculate())"
   ]
  },
  {
   "cell_type": "markdown",
   "metadata": {},
   "source": [
    "#02: CLASS VARIABLES\n"
   ]
  },
  {
   "cell_type": "markdown",
   "metadata": {},
   "source": [
    "Class variables = shared among all instances of a class\n",
    "                  Defined outside the constructor\n",
    "                  Allow you to share data among all objects created from that class\n"
   ]
  },
  {
   "cell_type": "code",
   "execution_count": 5,
   "metadata": {},
   "outputs": [
    {
     "name": "stdout",
     "output_type": "stream",
     "text": [
      "The total number of students who are graduating this 2025 school year are 4\n",
      "Aguilar\n",
      "Brownie\n",
      "Lebron\n",
      "Kd\n"
     ]
    }
   ],
   "source": [
    "\n",
    "class Student():\n",
    "    \n",
    "    school_year = 2025 #this variable (outside the constructor (def __init__(self,etc.)) #like a global within a class)\n",
    "    total_students = 0\n",
    "\n",
    "    def __init__(self,name,age,): #constructor\n",
    "        self.name = name\n",
    "        self.age = age\n",
    "        Student.total_students += 1\n",
    "\n",
    "    \n",
    "student1 = Student(\"Aguilar\",19)\n",
    "student2 = Student(\"Brownie\",20)\n",
    "student3 = Student(\"Lebron\",30)\n",
    "student4 = Student(\"Kd\",28)\n",
    "\n",
    "\n",
    "\n",
    "print(f\"The total number of students who are graduating this {Student.school_year} school year are {Student.total_students}\")\n",
    "print(student1.name)\n",
    "print(student2.name)\n",
    "print(student3.name)\n",
    "print(student4.name)"
   ]
  },
  {
   "cell_type": "markdown",
   "metadata": {},
   "source": [
    "#2.1: APPLYING DISCOUNT"
   ]
  },
  {
   "cell_type": "code",
   "execution_count": 2,
   "metadata": {},
   "outputs": [
    {
     "name": "stdout",
     "output_type": "stream",
     "text": [
      "80.0\n",
      "700.0\n"
     ]
    }
   ],
   "source": [
    "class Item:\n",
    "\n",
    "    pay_rate = 0.8 #The pay rate after the 20% discount / class level\n",
    "    def __init__(self,name: str, price: float, quantity = 0): \n",
    "        # Run validation to the received arguments\n",
    "        assert price >= 0, f'Price{price} is not greater than 0' #to ensure no negative values\n",
    "        assert quantity >= 0, f'Quantity {quantity} is not greater than 0'\n",
    "\n",
    "        #assign to self object\n",
    "        self.name = name\n",
    "        self.price = price\n",
    "        self.quantity = quantity\n",
    "\n",
    "    #def an action\n",
    "    def Calculate(self):\n",
    "        return self.price * self.quantity\n",
    "    \n",
    "    def discount(self):\n",
    "        self.price = self.price * self.pay_rate \n",
    "        return self.price\n",
    "\n",
    "item1 = Item(\"rice\",100,1)\n",
    "#uses class level variable pay_rate (0.8) \n",
    "print(item1.discount())\n",
    "\n",
    "item2 = Item(\"Biscuit\",1000,2) \n",
    "item2.pay_rate = 0.7 \n",
    "print(item2.discount())"
   ]
  },
  {
   "cell_type": "markdown",
   "metadata": {},
   "source": [
    "#2.2: DISPLAY ALL THE ITEMS"
   ]
  },
  {
   "cell_type": "code",
   "execution_count": 3,
   "metadata": {},
   "outputs": [
    {
     "name": "stdout",
     "output_type": "stream",
     "text": [
      "Laptop,Phone,Charger,Headset,"
     ]
    }
   ],
   "source": [
    "class Item:\n",
    "\n",
    "    pay_rate = 0.8 #The pay rate after the 20% discount / class level\n",
    "    all = []\n",
    "    def __init__(self,name: str, price: float, quantity = 0): \n",
    "        # Run validation to the received arguments\n",
    "        assert price >= 0, f'Price{price} is not greater than 0' #to ensure no negative values\n",
    "        assert quantity >= 0, f'Quantity {quantity} is not greater than 0'\n",
    "\n",
    "        #assign to self object\n",
    "        self.name = name\n",
    "        self.price = price\n",
    "        self.quantity = quantity\n",
    "\n",
    "        #Add each item name to (all list)\n",
    "        Item.all.append(name)\n",
    "\n",
    "    #def an action\n",
    "    def Calculate(self):\n",
    "        return self.price * self.quantity\n",
    "    \n",
    "    def discount(self):\n",
    "        self.price = self.price * self.pay_rate \n",
    "        return self.price\n",
    "    \n",
    "\n",
    "item1 = Item(\"Laptop\", 100,1)\n",
    "item2 = Item(\"Phone\",80,5)\n",
    "item3 = Item(\"Charger\",30,3)\n",
    "item4 = Item(\"Headset\",20,2)\n",
    "\n",
    "for item in Item.all:\n",
    "    print(item, end=\",\") # using (end=\",\") to avoid new line for each loop, as well as (,) as a separator"
   ]
  },
  {
   "cell_type": "markdown",
   "metadata": {},
   "source": [
    "#03: INHERTIANCE"
   ]
  },
  {
   "cell_type": "markdown",
   "metadata": {},
   "source": [
    " Inheritance =  Allows a class to inherit attributes and methods from anther class\n",
    "                Helps with code reusability and extensibility\n",
    "                ex: class Child(Parent)"
   ]
  },
  {
   "cell_type": "code",
   "execution_count": 6,
   "metadata": {},
   "outputs": [
    {
     "name": "stdout",
     "output_type": "stream",
     "text": [
      "Hey bro\n",
      "chickchick is sleeping\n"
     ]
    }
   ],
   "source": [
    "class Animal: #PARENT\n",
    "    def __init__(self,name):\n",
    "        self.name = name\n",
    "        self.is_alive = True\n",
    "    \n",
    "    def eat(self):\n",
    "        print(f\"{self.name} is eating\")\n",
    "    \n",
    "    def sleep(self):\n",
    "        print(f\"{self.name} is sleeping\")\n",
    "\n",
    "class Dog(Animal): #CHILD\n",
    "    def speak(self):\n",
    "        print('Barkkk')\n",
    "\n",
    "class Cat(Animal): #CHILD\n",
    "    def speak(self):\n",
    "        print('Meoww')\n",
    "\n",
    "class Chicken(Animal): #CHILD\n",
    "    def speak(self):\n",
    "        print('Hey bro')\n",
    "\n",
    "dog = Dog(\"Blacky\")\n",
    "cat = Cat(\"Mingming\")\n",
    "chicken = Chicken(\"chickchick\")\n",
    "\n",
    "chicken.speak()\n",
    "chicken.sleep()\n"
   ]
  },
  {
   "cell_type": "markdown",
   "metadata": {},
   "source": [
    "Multiple Inheritance =  inherit from more than one parent class\n",
    "                           ex:  C(A,B)\n",
    "\n",
    "Multilevel Inheritance = Inherit from a parent which inherits from another parent."
   ]
  },
  {
   "cell_type": "code",
   "execution_count": 7,
   "metadata": {},
   "outputs": [
    {
     "name": "stdout",
     "output_type": "stream",
     "text": [
      "Nemo is fleeing\n",
      "Whitey is fleeing\n",
      "Skye is hunting\n",
      "Whitey is eating\n",
      "Nemo is sleeping\n"
     ]
    }
   ],
   "source": [
    "class Animal: #Grandparent\n",
    "    def __init__(self,name):\n",
    "        self.name = name\n",
    "\n",
    "    def eat(self):\n",
    "        print(f\"{self.name} is eating\")\n",
    "\n",
    "    def sleep(self):\n",
    "        print(f'{self.name} is sleeping')\n",
    "class Prey(Animal): \n",
    "    def flee(self):\n",
    "        print(f'{self.name} is fleeing')\n",
    "\n",
    "class Predator(Animal):\n",
    "    def hunt(self):\n",
    "        print(f\"{self.name} is hunting\")\n",
    "\n",
    "class Rabbit(Prey):\n",
    "    pass\n",
    "\n",
    "class Hawk(Predator):\n",
    "    pass\n",
    "\n",
    "class Fish(Prey, Predator): #Multiple Inheritance (2 Parent)\n",
    "    pass\n",
    "\n",
    "rabbit = Rabbit(\"Whitey\")\n",
    "hawk = Hawk(\"Skye\")\n",
    "fish = Fish(\"Nemo\")\n",
    "\n",
    "fish.flee() #both prey and predator\n",
    "rabbit.flee() #prey\n",
    "hawk.hunt() #predator\n",
    "\n",
    "rabbit.eat()\n",
    "fish.sleep()"
   ]
  },
  {
   "cell_type": "markdown",
   "metadata": {},
   "source": [
    "#04: SUPER( )"
   ]
  },
  {
   "cell_type": "markdown",
   "metadata": {},
   "source": [
    "Super() = Function used in a child class to call methods from a parent class (superclass).\n",
    "          Allows you to extend the functionality of the inherited methods"
   ]
  },
  {
   "cell_type": "code",
   "execution_count": 8,
   "metadata": {},
   "outputs": [
    {
     "name": "stdout",
     "output_type": "stream",
     "text": [
      "This is red and not filled\n",
      "It is a cricle with an area of 28.26cm^2\n",
      "This is White and filled\n",
      "It is a cricle with an area of 64cm^2\n"
     ]
    }
   ],
   "source": [
    "class Shapes():\n",
    "    def __init__(self,color,filled):\n",
    "        self.color = color\n",
    "        self.filled = filled\n",
    "\n",
    "    def describe(self):\n",
    "        print(f\"This is {self.color} and {'filled' if self.filled else 'not filled'}\")\n",
    "\n",
    "class Circle(Shapes):\n",
    "    def __init__(self,color,filled,radius):\n",
    "        super().__init__(color,filled) #import attributes from parent class\n",
    "        self.radius = radius\n",
    "\n",
    "    def describe(self):\n",
    "        super().describe()#this is use to call the method from the parent class to avoid overlaping by child method\n",
    "        print(f\"It is a cricle with an area of {3.14*self.radius**2}cm^2\")\n",
    "\n",
    "class Square(Shapes):\n",
    "    def __init__(self,color,filled,width): \n",
    "        super().__init__(color,filled) #import attributes from parent class\n",
    "        self.width = width\n",
    "\n",
    "    def describe(self):\n",
    "        super().describe() #this is use to call the method from the parent class to avoid overlaping by child method\n",
    "        print(f\"It is a cricle with an area of {self.width**2}cm^2\")\n",
    "\n",
    "class Triangle(Shapes):\n",
    "    def __init__(self,color,filled,width,height):\n",
    "        super().__init__(color,filled)\n",
    "        self.width = width\n",
    "        self.height = height\n",
    "\n",
    "circle = Circle(\"red\",False,3)\n",
    "square = Square(\"White\", True, 8)\n",
    "\n",
    "\n",
    "\n",
    "circle.describe()\n",
    "square.describe()"
   ]
  },
  {
   "cell_type": "markdown",
   "metadata": {},
   "source": [
    "#05: ABSTRACT CLASS"
   ]
  },
  {
   "cell_type": "markdown",
   "metadata": {},
   "source": [
    "Abstract class = class that cannot be instantiated on its own; Meant to be subclassed\n",
    "                  They can contain abstact methods, which are declared but have no implementation\n",
    "                  Abstract classes benefits:\n",
    "                  1. Prevents instantiation of the class itself\n",
    "                  2. Requires children to use inherited abstract methods"
   ]
  },
  {
   "cell_type": "code",
   "execution_count": 9,
   "metadata": {},
   "outputs": [
    {
     "name": "stdout",
     "output_type": "stream",
     "text": [
      "You ride the motor\n",
      "The motor stopped\n",
      "You drive the boat\n",
      "You anchored the boat\n"
     ]
    }
   ],
   "source": [
    "from abc import ABC, abstractmethod\n",
    "\n",
    "class Vehicle(ABC): #PARENT\n",
    "    \n",
    "    @abstractmethod\n",
    "    def go(self):\n",
    "        pass\n",
    "\n",
    "    @abstractmethod\n",
    "    def stop(self):\n",
    "        pass\n",
    "\n",
    "class Car(Vehicle): #CHILD\n",
    "    def go(self):\n",
    "        print(\"You drive the car\")\n",
    "\n",
    "    def stop(self):\n",
    "        print(\"The car stopped\")\n",
    "\n",
    "class Motor(Vehicle): #CHILD\n",
    "    def go(self):\n",
    "        print(\"You ride the motor\")\n",
    "\n",
    "    def stop(self):\n",
    "        print(\"The motor stopped\")\n",
    "\n",
    "class Boat(Vehicle): #CHILD\n",
    "    def go(self):\n",
    "        print(\"You drive the boat\")\n",
    "    def stop(self):\n",
    "        print(\"You anchored the boat\")\n",
    "\n",
    "   \n",
    "motor = Motor()\n",
    "boat = Boat()\n",
    "motor.go()\n",
    "motor.stop()\n",
    "boat.go()\n",
    "boat.stop()\n",
    "    \n",
    "#REMINDER!!!!: Each children class should be completed (GO and STOP)\n",
    "#               if either one is missing, error will occur\n",
    "#               this method allows the user to make sure the system doesnt miss an action\n"
   ]
  },
  {
   "cell_type": "markdown",
   "metadata": {},
   "source": [
    "#06: POLYMORPHISM"
   ]
  },
  {
   "cell_type": "markdown",
   "metadata": {},
   "source": [
    "Greek word means to \"have many forms or fates\"      POLY = MANY  /  MORPHE = FORM\n",
    "TWO WAYS:\n",
    "1. Inheritance = An object could be treated of the same type  as a parent class\n",
    "2. Duck Typing = Object must have necessary attributes or methods."
   ]
  },
  {
   "cell_type": "code",
   "execution_count": 1,
   "metadata": {},
   "outputs": [
    {
     "name": "stdout",
     "output_type": "stream",
     "text": [
      "50.24\n",
      "25\n",
      "21.0\n",
      "706.5\n"
     ]
    }
   ],
   "source": [
    "from abc import ABC, abstractmethod\n",
    "\n",
    "class Shape(ABC):\n",
    "    @abstractmethod\n",
    "    def __init__(self):\n",
    "        pass\n",
    "\n",
    "class Circle(Shape):\n",
    "    def __init__(self,radius):\n",
    "        self.radius = radius\n",
    "    \n",
    "    def area(self):\n",
    "        return 3.14 * self.radius ** 2\n",
    "\n",
    "class Square(Shape):\n",
    "    def __init__(self,side):\n",
    "        self.side = side\n",
    "\n",
    "    def area(self):\n",
    "        return self.side **2\n",
    "\n",
    "class Triangle(Shape):\n",
    "    def __init__(self,base,height):\n",
    "        self.base = base\n",
    "        self.height = height\n",
    "\n",
    "    def area(self):\n",
    "        return self.base * self.height * 0.5\n",
    "\n",
    "class Pizza(Circle): #similar attribute with CIRCLE\n",
    "    def __init__(self,topping, radius):\n",
    "        super().__init__(radius) #import radius attribute\n",
    "        self.topping = topping\n",
    "        \n",
    "\n",
    "\n",
    "shapes = [Circle(4),Square(5),Triangle(6,7),Pizza(\"cheese\",15)]\n",
    "#shapes = [50.24, 25, 21.0]\n",
    "\n",
    "for shape in shapes:\n",
    "    print(shape.area())"
   ]
  },
  {
   "cell_type": "markdown",
   "metadata": {},
   "source": [
    "#07: DUCK TYPING\n"
   ]
  },
  {
   "cell_type": "markdown",
   "metadata": {},
   "source": [
    "Another way to achieve polymorphism besides inheritance. Object must have the minimum necessary attributes/methods.\n",
    "\"If it looks like a duck, and quacks like a duck, it must be a duck\""
   ]
  },
  {
   "cell_type": "code",
   "execution_count": 2,
   "metadata": {},
   "outputs": [
    {
     "name": "stdout",
     "output_type": "stream",
     "text": [
      "WOOF\n",
      "True\n",
      "MEOW\n",
      "True\n",
      "HONK\n",
      "False\n"
     ]
    }
   ],
   "source": [
    "class Animal():\n",
    "    Alive = True\n",
    "\n",
    "class Dog(Animal):\n",
    "    def speak(self):\n",
    "        print(\"WOOF\")\n",
    "\n",
    "class Cat(Animal):\n",
    "    def speak(self):\n",
    "        print(\"MEOW\")\n",
    "\n",
    "class Car(): #even tho it doesnt inherit from the Animal class as long as the function named as \"speak\" and set a variable for Alive it is\n",
    "            #consider as one of the Animal, thru its similar attribute\n",
    "    Alive = False\n",
    "    def speak(self):\n",
    "        print(\"HONK\")\n",
    "\n",
    "animals = [Dog(),Cat(),Car()]\n",
    "for animal in animals:\n",
    "    animal.speak()\n",
    "    print(animal.Alive)"
   ]
  }
 ],
 "metadata": {
  "kernelspec": {
   "display_name": "Python 3",
   "language": "python",
   "name": "python3"
  },
  "language_info": {
   "codemirror_mode": {
    "name": "ipython",
    "version": 3
   },
   "file_extension": ".py",
   "mimetype": "text/x-python",
   "name": "python",
   "nbconvert_exporter": "python",
   "pygments_lexer": "ipython3",
   "version": "3.11.9"
  }
 },
 "nbformat": 4,
 "nbformat_minor": 2
}
